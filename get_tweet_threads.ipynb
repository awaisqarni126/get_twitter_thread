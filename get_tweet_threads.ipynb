{
 "cells": [
  {
   "cell_type": "markdown",
   "id": "aaa6240b",
   "metadata": {},
   "source": [
    "# This notebook is for getting the data through tweepy."
   ]
  },
  {
   "cell_type": "code",
   "execution_count": 25,
   "id": "c87ce9c8",
   "metadata": {},
   "outputs": [],
   "source": [
    "#Importing the Tweepy library and creating variable with twitter developer account credentials.\n",
    "import tweepy\n",
    "ACCESS_TOKEN = '521627718-ebD5GtJqozNn2hnDEOXvMqGAw8ouBhNgj8hVeJBr'\n",
    "ACCESS_SECRET = 'xWEVueaWi5RSZyHUNzArwSxutx8U6U4wF13J0s4mnF5k7'\n",
    "CONSUMER_KEY = 'wNS5zKYMQJyIrEiyKZscu0hgy'\n",
    "CONSUMER_SECRET = 'HCFUwVavMyhDCOlsDYlpByzrAKg8JzVAmER1ZlqXX38qyGdXqU'"
   ]
  },
  {
   "cell_type": "code",
   "execution_count": 26,
   "id": "a7c7ebb2",
   "metadata": {},
   "outputs": [],
   "source": [
    "#Initializaing the Tweepy object\n",
    "auth = tweepy.OAuthHandler(CONSUMER_KEY, CONSUMER_SECRET)\n",
    "auth.set_access_token(ACCESS_TOKEN, ACCESS_SECRET)\n",
    "api = tweepy.API(auth)"
   ]
  },
  {
   "cell_type": "code",
   "execution_count": 27,
   "id": "83a9644b",
   "metadata": {
    "scrolled": true
   },
   "outputs": [
    {
     "name": "stdout",
     "output_type": "stream",
     "text": [
      "https://twitter.com/umer_sufyan/status/1537321615347707904\n",
      "Status(_api=<tweepy.api.API object at 0x0000021957479310>, _json={'created_at': 'Thu Jun 16 06:30:09 +0000 2022', 'id': 1537321615347707904, 'id_str': '1537321615347707904', 'full_text': 'Want to Succeed Doing #ML in the Real World? \\nHere are the three tips you need 🧵 👇\\n\\n#MLOps #AI https://t.co/375EibTfnn', 'truncated': False, 'display_text_range': [0, 94], 'entities': {'hashtags': [{'text': 'ML', 'indices': [22, 25]}, {'text': 'MLOps', 'indices': [84, 90]}, {'text': 'AI', 'indices': [91, 94]}], 'symbols': [], 'user_mentions': [], 'urls': [], 'media': [{'id': 1537321606686445568, 'id_str': '1537321606686445568', 'indices': [95, 118], 'media_url': 'http://pbs.twimg.com/tweet_video_thumb/FVWp2zAUEAAFKLY.jpg', 'media_url_https': 'https://pbs.twimg.com/tweet_video_thumb/FVWp2zAUEAAFKLY.jpg', 'url': 'https://t.co/375EibTfnn', 'display_url': 'pic.twitter.com/375EibTfnn', 'expanded_url': 'https://twitter.com/umer_sufyan/status/1537321615347707904/photo/1', 'type': 'photo', 'sizes': {'thumb': {'w': 150, 'h': 150, 'resize': 'crop'}, 'small': {'w': 506, 'h': 284, 'resize': 'fit'}, 'medium': {'w': 506, 'h': 284, 'resize': 'fit'}, 'large': {'w': 506, 'h': 284, 'resize': 'fit'}}}]}, 'extended_entities': {'media': [{'id': 1537321606686445568, 'id_str': '1537321606686445568', 'indices': [95, 118], 'media_url': 'http://pbs.twimg.com/tweet_video_thumb/FVWp2zAUEAAFKLY.jpg', 'media_url_https': 'https://pbs.twimg.com/tweet_video_thumb/FVWp2zAUEAAFKLY.jpg', 'url': 'https://t.co/375EibTfnn', 'display_url': 'pic.twitter.com/375EibTfnn', 'expanded_url': 'https://twitter.com/umer_sufyan/status/1537321615347707904/photo/1', 'type': 'animated_gif', 'sizes': {'thumb': {'w': 150, 'h': 150, 'resize': 'crop'}, 'small': {'w': 506, 'h': 284, 'resize': 'fit'}, 'medium': {'w': 506, 'h': 284, 'resize': 'fit'}, 'large': {'w': 506, 'h': 284, 'resize': 'fit'}}, 'video_info': {'aspect_ratio': [253, 142], 'variants': [{'bitrate': 0, 'content_type': 'video/mp4', 'url': 'https://video.twimg.com/tweet_video/FVWp2zAUEAAFKLY.mp4'}]}}]}, 'source': '<a href=\"https://typefully.com/\" rel=\"nofollow\">Typefully</a>', 'in_reply_to_status_id': None, 'in_reply_to_status_id_str': None, 'in_reply_to_user_id': None, 'in_reply_to_user_id_str': None, 'in_reply_to_screen_name': None, 'user': {'id': 1396802618, 'id_str': '1396802618', 'name': 'Umer Sufyan', 'screen_name': 'umer_sufyan', 'location': 'Islamabad', 'description': 'CEO and Founder @divedeepai. Founder @aitweetsco. Lead ML Engineer. Building next generation ML apps.', 'url': None, 'entities': {'description': {'urls': []}}, 'protected': False, 'followers_count': 93, 'friends_count': 110, 'listed_count': 0, 'created_at': 'Thu May 02 10:06:38 +0000 2013', 'favourites_count': 123, 'utc_offset': None, 'time_zone': None, 'geo_enabled': True, 'verified': False, 'statuses_count': 326, 'lang': None, 'contributors_enabled': False, 'is_translator': False, 'is_translation_enabled': False, 'profile_background_color': '1A1B1F', 'profile_background_image_url': 'http://abs.twimg.com/images/themes/theme9/bg.gif', 'profile_background_image_url_https': 'https://abs.twimg.com/images/themes/theme9/bg.gif', 'profile_background_tile': False, 'profile_image_url': 'http://pbs.twimg.com/profile_images/1484457570215636993/0CFPUB4d_normal.jpg', 'profile_image_url_https': 'https://pbs.twimg.com/profile_images/1484457570215636993/0CFPUB4d_normal.jpg', 'profile_banner_url': 'https://pbs.twimg.com/profile_banners/1396802618/1642758718', 'profile_link_color': 'A2ADB0', 'profile_sidebar_border_color': 'FFFFFF', 'profile_sidebar_fill_color': '252429', 'profile_text_color': '666666', 'profile_use_background_image': True, 'has_extended_profile': True, 'default_profile': False, 'default_profile_image': False, 'following': False, 'follow_request_sent': False, 'notifications': False, 'translator_type': 'none', 'withheld_in_countries': []}, 'geo': None, 'coordinates': None, 'place': None, 'contributors': None, 'is_quote_status': False, 'retweet_count': 1, 'favorite_count': 1, 'favorited': False, 'retweeted': False, 'possibly_sensitive': False, 'possibly_sensitive_appealable': False, 'lang': 'en'}, created_at=datetime.datetime(2022, 6, 16, 6, 30, 9, tzinfo=datetime.timezone.utc), id=1537321615347707904, id_str='1537321615347707904', full_text='Want to Succeed Doing #ML in the Real World? \\nHere are the three tips you need 🧵 👇\\n\\n#MLOps #AI https://t.co/375EibTfnn', truncated=False, display_text_range=[0, 94], entities={'hashtags': [{'text': 'ML', 'indices': [22, 25]}, {'text': 'MLOps', 'indices': [84, 90]}, {'text': 'AI', 'indices': [91, 94]}], 'symbols': [], 'user_mentions': [], 'urls': [], 'media': [{'id': 1537321606686445568, 'id_str': '1537321606686445568', 'indices': [95, 118], 'media_url': 'http://pbs.twimg.com/tweet_video_thumb/FVWp2zAUEAAFKLY.jpg', 'media_url_https': 'https://pbs.twimg.com/tweet_video_thumb/FVWp2zAUEAAFKLY.jpg', 'url': 'https://t.co/375EibTfnn', 'display_url': 'pic.twitter.com/375EibTfnn', 'expanded_url': 'https://twitter.com/umer_sufyan/status/1537321615347707904/photo/1', 'type': 'photo', 'sizes': {'thumb': {'w': 150, 'h': 150, 'resize': 'crop'}, 'small': {'w': 506, 'h': 284, 'resize': 'fit'}, 'medium': {'w': 506, 'h': 284, 'resize': 'fit'}, 'large': {'w': 506, 'h': 284, 'resize': 'fit'}}}]}, extended_entities={'media': [{'id': 1537321606686445568, 'id_str': '1537321606686445568', 'indices': [95, 118], 'media_url': 'http://pbs.twimg.com/tweet_video_thumb/FVWp2zAUEAAFKLY.jpg', 'media_url_https': 'https://pbs.twimg.com/tweet_video_thumb/FVWp2zAUEAAFKLY.jpg', 'url': 'https://t.co/375EibTfnn', 'display_url': 'pic.twitter.com/375EibTfnn', 'expanded_url': 'https://twitter.com/umer_sufyan/status/1537321615347707904/photo/1', 'type': 'animated_gif', 'sizes': {'thumb': {'w': 150, 'h': 150, 'resize': 'crop'}, 'small': {'w': 506, 'h': 284, 'resize': 'fit'}, 'medium': {'w': 506, 'h': 284, 'resize': 'fit'}, 'large': {'w': 506, 'h': 284, 'resize': 'fit'}}, 'video_info': {'aspect_ratio': [253, 142], 'variants': [{'bitrate': 0, 'content_type': 'video/mp4', 'url': 'https://video.twimg.com/tweet_video/FVWp2zAUEAAFKLY.mp4'}]}}]}, source='Typefully', source_url='https://typefully.com/', in_reply_to_status_id=None, in_reply_to_status_id_str=None, in_reply_to_user_id=None, in_reply_to_user_id_str=None, in_reply_to_screen_name=None, author=User(_api=<tweepy.api.API object at 0x0000021957479310>, _json={'id': 1396802618, 'id_str': '1396802618', 'name': 'Umer Sufyan', 'screen_name': 'umer_sufyan', 'location': 'Islamabad', 'description': 'CEO and Founder @divedeepai. Founder @aitweetsco. Lead ML Engineer. Building next generation ML apps.', 'url': None, 'entities': {'description': {'urls': []}}, 'protected': False, 'followers_count': 93, 'friends_count': 110, 'listed_count': 0, 'created_at': 'Thu May 02 10:06:38 +0000 2013', 'favourites_count': 123, 'utc_offset': None, 'time_zone': None, 'geo_enabled': True, 'verified': False, 'statuses_count': 326, 'lang': None, 'contributors_enabled': False, 'is_translator': False, 'is_translation_enabled': False, 'profile_background_color': '1A1B1F', 'profile_background_image_url': 'http://abs.twimg.com/images/themes/theme9/bg.gif', 'profile_background_image_url_https': 'https://abs.twimg.com/images/themes/theme9/bg.gif', 'profile_background_tile': False, 'profile_image_url': 'http://pbs.twimg.com/profile_images/1484457570215636993/0CFPUB4d_normal.jpg', 'profile_image_url_https': 'https://pbs.twimg.com/profile_images/1484457570215636993/0CFPUB4d_normal.jpg', 'profile_banner_url': 'https://pbs.twimg.com/profile_banners/1396802618/1642758718', 'profile_link_color': 'A2ADB0', 'profile_sidebar_border_color': 'FFFFFF', 'profile_sidebar_fill_color': '252429', 'profile_text_color': '666666', 'profile_use_background_image': True, 'has_extended_profile': True, 'default_profile': False, 'default_profile_image': False, 'following': False, 'follow_request_sent': False, 'notifications': False, 'translator_type': 'none', 'withheld_in_countries': []}, id=1396802618, id_str='1396802618', name='Umer Sufyan', screen_name='umer_sufyan', location='Islamabad', description='CEO and Founder @divedeepai. Founder @aitweetsco. Lead ML Engineer. Building next generation ML apps.', url=None, entities={'description': {'urls': []}}, protected=False, followers_count=93, friends_count=110, listed_count=0, created_at=datetime.datetime(2013, 5, 2, 10, 6, 38, tzinfo=datetime.timezone.utc), favourites_count=123, utc_offset=None, time_zone=None, geo_enabled=True, verified=False, statuses_count=326, lang=None, contributors_enabled=False, is_translator=False, is_translation_enabled=False, profile_background_color='1A1B1F', profile_background_image_url='http://abs.twimg.com/images/themes/theme9/bg.gif', profile_background_image_url_https='https://abs.twimg.com/images/themes/theme9/bg.gif', profile_background_tile=False, profile_image_url='http://pbs.twimg.com/profile_images/1484457570215636993/0CFPUB4d_normal.jpg', profile_image_url_https='https://pbs.twimg.com/profile_images/1484457570215636993/0CFPUB4d_normal.jpg', profile_banner_url='https://pbs.twimg.com/profile_banners/1396802618/1642758718', profile_link_color='A2ADB0', profile_sidebar_border_color='FFFFFF', profile_sidebar_fill_color='252429', profile_text_color='666666', profile_use_background_image=True, has_extended_profile=True, default_profile=False, default_profile_image=False, following=False, follow_request_sent=False, notifications=False, translator_type='none', withheld_in_countries=[]), user=User(_api=<tweepy.api.API object at 0x0000021957479310>, _json={'id': 1396802618, 'id_str': '1396802618', 'name': 'Umer Sufyan', 'screen_name': 'umer_sufyan', 'location': 'Islamabad', 'description': 'CEO and Founder @divedeepai. Founder @aitweetsco. Lead ML Engineer. Building next generation ML apps.', 'url': None, 'entities': {'description': {'urls': []}}, 'protected': False, 'followers_count': 93, 'friends_count': 110, 'listed_count': 0, 'created_at': 'Thu May 02 10:06:38 +0000 2013', 'favourites_count': 123, 'utc_offset': None, 'time_zone': None, 'geo_enabled': True, 'verified': False, 'statuses_count': 326, 'lang': None, 'contributors_enabled': False, 'is_translator': False, 'is_translation_enabled': False, 'profile_background_color': '1A1B1F', 'profile_background_image_url': 'http://abs.twimg.com/images/themes/theme9/bg.gif', 'profile_background_image_url_https': 'https://abs.twimg.com/images/themes/theme9/bg.gif', 'profile_background_tile': False, 'profile_image_url': 'http://pbs.twimg.com/profile_images/1484457570215636993/0CFPUB4d_normal.jpg', 'profile_image_url_https': 'https://pbs.twimg.com/profile_images/1484457570215636993/0CFPUB4d_normal.jpg', 'profile_banner_url': 'https://pbs.twimg.com/profile_banners/1396802618/1642758718', 'profile_link_color': 'A2ADB0', 'profile_sidebar_border_color': 'FFFFFF', 'profile_sidebar_fill_color': '252429', 'profile_text_color': '666666', 'profile_use_background_image': True, 'has_extended_profile': True, 'default_profile': False, 'default_profile_image': False, 'following': False, 'follow_request_sent': False, 'notifications': False, 'translator_type': 'none', 'withheld_in_countries': []}, id=1396802618, id_str='1396802618', name='Umer Sufyan', screen_name='umer_sufyan', location='Islamabad', description='CEO and Founder @divedeepai. Founder @aitweetsco. Lead ML Engineer. Building next generation ML apps.', url=None, entities={'description': {'urls': []}}, protected=False, followers_count=93, friends_count=110, listed_count=0, created_at=datetime.datetime(2013, 5, 2, 10, 6, 38, tzinfo=datetime.timezone.utc), favourites_count=123, utc_offset=None, time_zone=None, geo_enabled=True, verified=False, statuses_count=326, lang=None, contributors_enabled=False, is_translator=False, is_translation_enabled=False, profile_background_color='1A1B1F', profile_background_image_url='http://abs.twimg.com/images/themes/theme9/bg.gif', profile_background_image_url_https='https://abs.twimg.com/images/themes/theme9/bg.gif', profile_background_tile=False, profile_image_url='http://pbs.twimg.com/profile_images/1484457570215636993/0CFPUB4d_normal.jpg', profile_image_url_https='https://pbs.twimg.com/profile_images/1484457570215636993/0CFPUB4d_normal.jpg', profile_banner_url='https://pbs.twimg.com/profile_banners/1396802618/1642758718', profile_link_color='A2ADB0', profile_sidebar_border_color='FFFFFF', profile_sidebar_fill_color='252429', profile_text_color='666666', profile_use_background_image=True, has_extended_profile=True, default_profile=False, default_profile_image=False, following=False, follow_request_sent=False, notifications=False, translator_type='none', withheld_in_countries=[]), geo=None, coordinates=None, place=None, contributors=None, is_quote_status=False, retweet_count=1, favorite_count=1, favorited=False, retweeted=False, possibly_sensitive=False, possibly_sensitive_appealable=False, lang='en')\n"
     ]
    }
   ],
   "source": [
    "def get_tweets(link):\n",
    "    print(link)\n",
    "    id = link.split('/')[-1]\n",
    "    tweet_result = api.get_status(id=id, tweet_mode=\"extended\")\n",
    "    print(tweet_result)\n",
    "get_tweets(\"https://twitter.com/umer_sufyan/status/1537321615347707904\")"
   ]
  },
  {
   "cell_type": "code",
   "execution_count": 34,
   "id": "deb801b1",
   "metadata": {},
   "outputs": [],
   "source": [
    "#Summary function is used for getting threads \n",
    "# Threads -> Author all replies or tweet in his own tweet.\n",
    "def summary(link):\n",
    "    user_name = link.split(\"/\")[-3]\n",
    "    tweet_id=link.split(\"/\")[-1]\n",
    "    all_thread=''\n",
    "    replies = tweepy.Cursor(api.search_tweets, q=user_name,\n",
    "                                    since_id=tweet_id, tweet_mode='extended').items()\n",
    "    all_ids=[]\n",
    "    while True:\n",
    "        try:\n",
    "            reply = replies.next()\n",
    "            if reply.in_reply_to_status_id and str(reply.user.screen_name)==user_name:\n",
    "              all_ids.append(reply)\n",
    "        except StopIteration:\n",
    "            break\n",
    "\n",
    "        except tweepy.RateLimitError as e:\n",
    "            print(\"Twitter api rate limit reached\".format(e))\n",
    "            time.sleep(60)\n",
    "            continue\n",
    "\n",
    "        except tweepy.TweepError as e:\n",
    "            print(\"Tweepy error occured:{}\".format(e))\n",
    "            break\n",
    "\n",
    "        except Exception as e:\n",
    "            print(\"Failed while fetching replies {}\".format(e))\n",
    "            break\n",
    "    go_next=True\n",
    "    while go_next:\n",
    "      flag=False\n",
    "      for j in all_ids:\n",
    "        if str(j.in_reply_to_status_id)==tweet_id:\n",
    "          #print(j.full_text)\n",
    "          all_thread=all_thread+\" \"+str(j.full_text)\n",
    "          tweet_id=str(j.id)\n",
    "          flag=True\n",
    "      if flag==False:\n",
    "        go_next=False\n",
    "    text = re.sub(r'http\\S+', '', all_thread)\n",
    "    return text\n",
    "\n"
   ]
  },
  {
   "cell_type": "code",
   "execution_count": 35,
   "id": "c483f7f9",
   "metadata": {},
   "outputs": [
    {
     "data": {
      "text/plain": [
       "\" Machine Learning is a tool, not a solution.\\n\\nThe world of machine learning is full of exciting new things to explore, but it's also full of pitfalls—and if you're ready to dive in, it's important to understand that this isn't going to be an easy journey. Even if you're well-versed in the basics of machine learning and have been trying out your own models, there's still a lot more to learn.\\n\\nIf you want to succeed in doing ML in the real world, here are three tips 🧵 1. Machine Learning is the means, not the ends.\\n\\nMachine learning is powerful because it can help you solve your problems faster than ever before—but don't let this distract from the end goal: solving your customer's problem. 2. Find training data from the data bus, or data warehouse/lake.\\n\\nYour model will only work as well as its training data does! So make sure you're using the most up-to-date and relevant training data available for your given model type when deploying it into production. 3. Deploy the model and expose it to the rest of the tech stack\\n\\nOnce your model has been deployed, make sure that all other systems on which it depends are also updated with versions that support I hope you learned something today!\\nFollow @umer_sufyan for more.\""
      ]
     },
     "execution_count": 35,
     "metadata": {},
     "output_type": "execute_result"
    }
   ],
   "source": [
    "summary(\"https://twitter.com/umer_sufyan/status/1537321615347707904\")"
   ]
  },
  {
   "cell_type": "code",
   "execution_count": null,
   "id": "d61cf207",
   "metadata": {},
   "outputs": [],
   "source": []
  }
 ],
 "metadata": {
  "kernelspec": {
   "display_name": "Python 3 (ipykernel)",
   "language": "python",
   "name": "python3"
  },
  "language_info": {
   "codemirror_mode": {
    "name": "ipython",
    "version": 3
   },
   "file_extension": ".py",
   "mimetype": "text/x-python",
   "name": "python",
   "nbconvert_exporter": "python",
   "pygments_lexer": "ipython3",
   "version": "3.9.7"
  }
 },
 "nbformat": 4,
 "nbformat_minor": 5
}
